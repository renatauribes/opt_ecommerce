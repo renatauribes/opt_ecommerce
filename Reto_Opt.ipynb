{
  "nbformat": 4,
  "nbformat_minor": 0,
  "metadata": {
    "colab": {
      "provenance": [],
      "collapsed_sections": [
        "d7lDR_m2SoNS"
      ]
    },
    "kernelspec": {
      "name": "python3",
      "display_name": "Python 3"
    },
    "language_info": {
      "name": "python"
    }
  },
  "cells": [
    {
      "cell_type": "markdown",
      "metadata": {
        "id": "Yg2fx2B_cQLP"
      },
      "source": [
        "# Librerias"
      ]
    },
    {
      "cell_type": "code",
      "metadata": {
        "colab": {
          "base_uri": "https://localhost:8080/",
          "height": 349
        },
        "id": "tMCa43luNbaP",
        "outputId": "4778e5cd-6e09-46b4-c1a3-8d9c17ccab65"
      },
      "source": [
        "!pip install ortools"
      ],
      "execution_count": null,
      "outputs": [
        {
          "output_type": "stream",
          "text": [
            "Collecting ortools\n",
            "\u001b[?25l  Downloading https://files.pythonhosted.org/packages/8f/df/aff5a745ab55d95fcf50ec3c0aa8cbb370f807692eb818cfcda7062d607a/ortools-8.2.8710-cp37-cp37m-manylinux1_x86_64.whl (14.2MB)\n",
            "\u001b[K     |████████████████████████████████| 14.2MB 329kB/s \n",
            "\u001b[?25hRequirement already satisfied: absl-py>=0.11 in /usr/local/lib/python3.7/dist-packages (from ortools) (0.12.0)\n",
            "Collecting protobuf>=3.14.0\n",
            "\u001b[?25l  Downloading https://files.pythonhosted.org/packages/51/4e/de63de3cd9a83d3c1753a4566b11fc9d90b845f2448a132cfd36d3cb3cd1/protobuf-3.15.8-cp37-cp37m-manylinux1_x86_64.whl (1.0MB)\n",
            "\u001b[K     |████████████████████████████████| 1.0MB 34.2MB/s \n",
            "\u001b[?25hRequirement already satisfied: six in /usr/local/lib/python3.7/dist-packages (from absl-py>=0.11->ortools) (1.15.0)\n",
            "Installing collected packages: protobuf, ortools\n",
            "  Found existing installation: protobuf 3.12.4\n",
            "    Uninstalling protobuf-3.12.4:\n",
            "      Successfully uninstalled protobuf-3.12.4\n",
            "Successfully installed ortools-8.2.8710 protobuf-3.15.8\n"
          ],
          "name": "stdout"
        },
        {
          "output_type": "display_data",
          "data": {
            "application/vnd.colab-display-data+json": {
              "pip_warning": {
                "packages": [
                  "google"
                ]
              }
            }
          },
          "metadata": {
            "tags": []
          }
        }
      ]
    },
    {
      "cell_type": "code",
      "metadata": {
        "id": "vgfukk6UcNHy"
      },
      "source": [
        "from ortools.constraint_solver import routing_enums_pb2\n",
        "from ortools.constraint_solver import pywrapcp"
      ],
      "execution_count": null,
      "outputs": []
    },
    {
      "cell_type": "markdown",
      "metadata": {
        "id": "d7lDR_m2SoNS"
      },
      "source": [
        "# Crear Datos"
      ]
    },
    {
      "cell_type": "code",
      "metadata": {
        "id": "B_LmXJHicut7"
      },
      "source": [
        "def crear_datos():\n",
        "    # Guarda los datos del problema\n",
        "    datos = {}\n",
        "    datos['matriz_tiempo'] = [[0,27,28,32,37,15,32,31,24,43,21,37,33,33,33,20,27,21,13,15,31,42,38,28,28,25,27,36,26,30,36],\n",
        "    [27,0,34,25,25,32,31,29,25,33,38,27,42,31,24,15,25,13,22,27,23,32,27,24,42,28,32,31,24,31,38],\n",
        "    [28,34,0,20,30,30,14,10,12,37,22,35,30,32,13,14,37,39,26,29,13,17,39,36,23,13,10,19,16,12,23],\n",
        "    [32,25,20,0,15,44,9,14,15,27,33,21,29,7,6,27,32,22,33,6,4,27,28,4,20,17,20,12,13,13,5],\n",
        "    [37,25,30,15,0,48,22,28,26,27,37,28,35,17,19,30,37,25,37,20,17,25,26,20,23,28,28,29,25,27,17],\n",
        "    [15,32,30,44,48,0,41,37,31,51,27,41,39,37,37,24,9,24,14,37,37,63,59,49,39,43,36,47,40,43,34],\n",
        "    [32,31,14,9,22,41,0,12,15,31,29,38,25,15,10,34,33,30,34,7,13,31,29,10,15,16,16,9,14,11,6],\n",
        "    [31,29,10,14,28,37,12,0,8,33,27,27,25,17,8,34,30,23,30,11,13,33,31,15,19,10,8,10,8,3,15],\n",
        "    [24,25,12,15,26,31,15,8,0,28,27,31,20,30,21,10,27,23,18,23,15,15,32,31,14,20,10,10,8,3,16],\n",
        "    [43,33,37,27,27,51,31,33,28,0,58,14,11,42,24,26,36,43,31,42,29,25,2,29,39,29,41,43,35,42,35],\n",
        "    [21,38,22,33,37,27,29,27,27,58,0,49,35,23,9,31,34,22,28,26,29,31,45,27,37,28,25,36,31,32,35],\n",
        "    [37,27,30,21,19,41,28,27,20,11,35,0,54,27,30,47,38,34,46,38,29,13,20,30,38,36,40,36,32,37,39],\n",
        "    [33,42,22,29,35,39,25,25,30,42,23,54,0,26,29,48,35,40,41,27,32,41,43,44,15,34,26,31,34,33,31],\n",
        "    [33,31,13,7,17,37,15,17,21,24,29,27,24,0,11,34,33,29,35,9,11,23,23,28,13,22,20,17,20,17,7],\n",
        "    [33,24,14,6,19,37,10,8,10,26,31,30,27,15,0,27,32,21,34,5,5,25,21,22,16,11,15,8,9,6,8],\n",
        "    [20,15,37,27,30,24,34,34,27,36,34,37,45,30,26,0,19,17,15,29,25,35,31,14,40,17,18,11,14,11,5],\n",
        "    [7,25,29,32,37,9,33,30,23,43,22,48,34,34,33,19,0,21,10,35,31,42,39,27,29,30,29,40,29,34,41],\n",
        "    [21,13,26,22,25,24,30,23,18,31,28,34,38,28,22,19,19,0,21,24,20,30,26,19,29,22,30,21,18,23,28],\n",
        "    [13,22,29,33,37,14,34,30,23,43,26,46,36,35,22,16,9,21,0,35,31,42,39,24,30,28,26,37,26,32,39],\n",
        "    [35,27,13,6,20,37,7,11,15,29,29,38,23,14,5,30,32,25,35,0,8,27,24,25,13,16,16,10,13,11,5],\n",
        "    [31,23,17,4,17,37,13,13,15,25,31,29,30,15,6,26,34,21,37,8,0,23,20,21,19,15,20,11,11,12,10],\n",
        "    [42,32,39,27,25,63,31,33,32,2,45,13,40,24,27,28,41,30,44,28,24,0,23,25,32,28,28,32,25,30,30],\n",
        "    [38,27,36,28,26,59,29,31,31,29,47,20,42,25,26,26,42,28,41,26,22,23,0,23,26,24,24,28,23,26,26],\n",
        "    [28,24,23,4,20,49,10,15,14,39,37,30,35,11,6,7,36,24,33,8,1,27,23,0,20,15,20,12,12,12,9],\n",
        "    [28,42,23,20,23,39,15,19,20,39,28,38,15,15,18,17,30,31,31,15,21,32,26,20,0,17,15,16,17,14,18],\n",
        "    [25,28,13,17,28,43,16,10,10,39,31,36,34,22,11,17,30,22,28,16,15,28,24,15,17,0,7,14,4,7,18],\n",
        "    [27,32,10,20,28,36,16,8,10,41,25,40,26,20,15,18,29,30,26,16,20,29,24,20,15,7,0,15,10,11,22],\n",
        "    [36,31,19,12,29,47,9,10,10,43,36,36,31,17,8,11,40,21,37,10,11,33,28,12,16,14,15,0,11,8,12],\n",
        "    [26,24,16,13,25,40,14,8,8,35,31,32,34,20,9,14,29,18,26,13,11,25,23,12,17,4,10,11,0,7,15],\n",
        "    [30,31,12,13,27,43,11,3,3,42,32,37,33,17,6,11,34,23,32,11,12,30,26,12,14,7,11,8,7,0,13],\n",
        "    [36,38,23,5,17,34,6,15,16,35,35,39,31,7,8,5,41,28,39,5,10,32,26,9,18,18,22,12,15,13,0]]\n",
        "\n",
        "    datos['volumen'] = [0,0,0,0.0035606,0.046942,0.014088,0.004704,0.004704,0.004704,0.004704,0.004704,\n",
        "                      0.260025,0.004704,0.008536,0.006493,0.004995,0.013794,0.013794,0.001,0.012365,0.012365,\n",
        "                      0.001419,0.014088,0.0459841,0.00988,0.08575,0.08294,0.0377,0.0460025,0.0460025,0.015801,0.0371462]\n",
        "\n",
        "    datos['capacidad'] = [11, 11]\n",
        "    datos['num_rutas'] = 2\n",
        "    datos['bodega'] = 0\n",
        "    return datos"
      ],
      "execution_count": null,
      "outputs": []
    },
    {
      "cell_type": "markdown",
      "metadata": {
        "id": "THtJvdAJc4Xh"
      },
      "source": [
        "# Imprimir Solución"
      ]
    },
    {
      "cell_type": "code",
      "metadata": {
        "id": "REQzdqQ-c80N"
      },
      "source": [
        "def imprimir_solucion(datos, manager, routing, solucion):\n",
        "    # Imprime Solución\n",
        "    tiempo_total = 0\n",
        "    carga_total = 0\n",
        "    for ruta_id in range(datos['num_rutas']):\n",
        "        zona = routing.Start(ruta_id)\n",
        "        plan = 'Ruta {}:\\n'.format(ruta_id)\n",
        "        tiempo_ruta = 0\n",
        "        carga_ruta = 0\n",
        "        while not routing.IsEnd(zona):\n",
        "            nodo_zona = manager.IndexToNode(zona)\n",
        "            carga_ruta += datos['volumen'][nodo_zona]\n",
        "            plan += ' {0} Carga({1}) -> '.format(nodo_zona, carga_ruta)\n",
        "            zona_previa = zona\n",
        "            zona = solucion.Value(routing.NextVar(zona))\n",
        "            tiempo_ruta += routing.GetArcCostForVehicle(\n",
        "                zona_previa, zona, ruta_id)\n",
        "        plan += ' {0} Carga({1})\\n'.format(manager.IndexToNode(zona),\n",
        "                                                 carga_ruta)\n",
        "        plan += 'Tiempo de Ruta: {}mins\\n'.format(tiempo_ruta)\n",
        "        plan += 'Carga de Ruta: {}\\n'.format(carga_ruta)\n",
        "        print(plan)\n",
        "        tiempo_total += tiempo_ruta\n",
        "        carga_total += carga_ruta\n",
        "    print('Tiempo Total de las Rutas: {}mins'.format(tiempo_total))\n",
        "    print('Carga Total de las Rutas: {}'.format(carga_total))"
      ],
      "execution_count": null,
      "outputs": []
    },
    {
      "cell_type": "markdown",
      "metadata": {
        "id": "KSadeDAGjxRu"
      },
      "source": [
        "# Crear Rutas"
      ]
    },
    {
      "cell_type": "code",
      "metadata": {
        "id": "gNyNpAl34CcX",
        "colab": {
          "base_uri": "https://localhost:8080/"
        },
        "outputId": "12b7d8bb-3767-4d7d-977c-0ce08fdde989"
      },
      "source": [
        "def main():\n",
        "    # Iniciar Datos\n",
        "    datos = crear_datos()\n",
        "\n",
        "    # Crear un zona con los datos de las rutas\n",
        "    manager = pywrapcp.RoutingIndexManager(len(datos['matriz_tiempo']),\n",
        "                                           datos['num_rutas'], datos['bodega'])\n",
        "\n",
        "    # Crear el modelo de rutas\n",
        "    routing = pywrapcp.RoutingModel(manager)\n",
        "\n",
        "\n",
        "    # Crear funciones para obtener tiempos.\n",
        "    def obtener_tiempo(zona_salida, zona_llegada):\n",
        "        # Regresa el tiempo entre 2 nodos\n",
        "        # Convertir de una variable routing zona a una matriz nodo zona \n",
        "        nodo_salida = manager.IndexToNode(zona_salida)\n",
        "        nodo_llegada = manager.IndexToNode(zona_llegada)\n",
        "        return datos['matriz_tiempo'][nodo_salida][nodo_llegada]\n",
        "\n",
        "    tiempo_obtenido_zona = routing.RegisterTransitCallback(obtener_tiempo)\n",
        "\n",
        "    # Definir el costo de cada salida\n",
        "    routing.SetArcCostEvaluatorOfAllVehicles(tiempo_obtenido_zona)\n",
        "\n",
        "    nombre_medida = 'Tiempo'\n",
        "    routing.AddDimension(\n",
        "        tiempo_obtenido_zona,\n",
        "        0,  \n",
        "        200,  # minutos maximos por ruta\n",
        "        True,  \n",
        "        nombre_medida)\n",
        "    medida_tiempo = routing.GetDimensionOrDie(nombre_medida)\n",
        "\n",
        "    # Agregar limite de volumen\n",
        "    def obtener_volumen(zona_salida):\n",
        "        # Regresa el volumen que necesita cada nodo\n",
        "        # Convertir de una variable routing zona a una demanda nodo zona\n",
        "        nodo_salida = manager.IndexToNode(zona_salida)\n",
        "        return datos['volumen'][nodo_salida]\n",
        "\n",
        "    obtener_volumen_zona = routing.RegisterUnaryTransitCallback(\n",
        "        obtener_volumen)\n",
        "    routing.AddDimensionWithVehicleCapacity(\n",
        "        obtener_volumen_zona,\n",
        "        0,  \n",
        "        datos['capacidad'],  #capacidad máxima de cada camión\n",
        "        True, \n",
        "        'Capacidad')\n",
        "\n",
        "    # Solución Heuristica\n",
        "    param_busqueda = pywrapcp.DefaultRoutingSearchParameters()\n",
        "    param_busqueda.first_solution_strategy = (\n",
        "        routing_enums_pb2.FirstSolutionStrategy.PATH_CHEAPEST_ARC)\n",
        "    param_busqueda.local_search_metaheuristic = (\n",
        "        routing_enums_pb2.LocalSearchMetaheuristic.GUIDED_LOCAL_SEARCH)\n",
        "    param_busqueda.time_limit.FromSeconds(1)\n",
        "\n",
        "    # Resolver\n",
        "    solucion = routing.SolveWithParameters(param_busqueda)\n",
        "\n",
        "    # Imprimir Solucion\n",
        "    if solucion:\n",
        "        imprimir_solucion(datos, manager, routing, solucion)\n",
        "\n",
        "\n",
        "if __name__ == '__main__':\n",
        "    main()"
      ],
      "execution_count": null,
      "outputs": [
        {
          "output_type": "stream",
          "text": [
            "Ruta 0:\n",
            " 0 Carga(0) ->  19 Carga(0.012365) ->  6 Carga(0.017069) ->  2 Carga(0.017069) ->  21 Carga(0.018488) ->  9 Carga(0.023192) ->  22 Carga(0.03728) ->  11 Carga(0.297305) ->  4 Carga(0.34424699999999997) ->  13 Carga(0.35278299999999996) ->  24 Carga(0.36266299999999996) ->  12 Carga(0.36736699999999994) ->  10 Carga(0.37207099999999993) ->  0 Carga(0.37207099999999993)\n",
            "Tiempo de Ruta: 185mins\n",
            "Carga de Ruta: 0.37207099999999993\n",
            "\n",
            "Ruta 1:\n",
            " 0 Carga(0) ->  17 Carga(0.013794) ->  1 Carga(0.013794) ->  15 Carga(0.018789) ->  30 Carga(0.034589999999999996) ->  3 Carga(0.03815059999999999) ->  23 Carga(0.08413469999999999) ->  20 Carga(0.0964997) ->  14 Carga(0.10299269999999999) ->  27 Carga(0.1406927) ->  28 Carga(0.1866952) ->  25 Carga(0.2724452) ->  26 Carga(0.3553852) ->  7 Carga(0.3600892) ->  29 Carga(0.4060917) ->  8 Carga(0.4107957) ->  18 Carga(0.4117957) ->  5 Carga(0.4258837) ->  16 Carga(0.43967769999999995) ->  0 Carga(0.43967769999999995)\n",
            "Tiempo de Ruta: 162mins\n",
            "Carga de Ruta: 0.43967769999999995\n",
            "\n",
            "Tiempo Total de las Rutas: 347mins\n",
            "Carga Total de las Rutas: 0.8117486999999999\n"
          ],
          "name": "stdout"
        }
      ]
    },
    {
      "cell_type": "code",
      "metadata": {
        "id": "UJu5Hiqp4CfO"
      },
      "source": [],
      "execution_count": null,
      "outputs": []
    },
    {
      "cell_type": "code",
      "metadata": {
        "id": "v1yf0Df-4Ch4"
      },
      "source": [],
      "execution_count": null,
      "outputs": []
    }
  ]
}